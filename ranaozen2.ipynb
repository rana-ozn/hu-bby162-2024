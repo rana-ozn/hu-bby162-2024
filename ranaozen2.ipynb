{
  "nbformat": 4,
  "nbformat_minor": 0,
  "metadata": {
    "colab": {
      "provenance": [],
      "authorship_tag": "ABX9TyMKv+WOIcTe+v868PS+OyBt",
      "include_colab_link": true
    },
    "kernelspec": {
      "name": "python3",
      "display_name": "Python 3"
    },
    "language_info": {
      "name": "python"
    }
  },
  "cells": [
    {
      "cell_type": "markdown",
      "metadata": {
        "id": "view-in-github",
        "colab_type": "text"
      },
      "source": [
        "<a href=\"https://colab.research.google.com/github/rana-ozn/hu-bby162-2024/blob/main/ranaozen2.ipynb\" target=\"_parent\"><img src=\"https://colab.research.google.com/assets/colab-badge.svg\" alt=\"Open In Colab\"/></a>"
      ]
    },
    {
      "cell_type": "code",
      "execution_count": 61,
      "metadata": {
        "id": "VPnyzczBRip8"
      },
      "outputs": [],
      "source": [
        "def zorluk_seviyesi_sec():\n",
        "       kelimeler =  [\"bisiklet\",\"triatlon\",\"yüzme\",\"koşu\"]\n",
        "       seviye = input(\"Seviye seçimi (Kolay/Orta/Zor): \").lower()\n",
        "\n",
        "\n",
        "       while seviye not in [\"kolay\",\"orta\",\"zor\"]:\n",
        "           seviye = input(\"Geçersiz seviye, tekrar deneyin(Kolay/Orta/Zor):\").lower()\n",
        "\n",
        "       can_sayisi = {'kolay': 7, 'orta': 5, 'zor': 3}[seviye]\n",
        "       secilen_kelime = random.choice(kelimeler)\n",
        "\n",
        "       return can_sayisi, secilen_kelime\n",
        "\n",
        "def kelime_diz(sec_kelime):\n",
        "       return [\"_\" for _ in sec_kelime]\n",
        "\n",
        "def harf_tahmin_et(can_sayisi, sec_kelime, diz_kelime):\n",
        "    girilen_harf = input(\"Bir harf giriniz:\").lower()\n",
        "\n",
        "    if len(girilen_harf) != 1 or not girilen_harf.isalpha():\n",
        "        print(\"Lütfen tek bir harf girin.\")\n",
        "        return can_sayisi, diz_kelime\n",
        "\n",
        "    if girilen_harf in diz_kelime:\n",
        "        print(\"Bu harfi zaten girdiniz.\")\n",
        "        return can_sayisi, diz_kelime\n",
        "\n",
        "    if girilen_harf in sec_kelime:\n",
        "        for i , harf in enumerate(sec_kelime):\n",
        "            if harf == girilen_harf:\n",
        "                diz_kelime[i] = girilen_harf\n",
        "    else:\n",
        "        can_sayisi -= 1\n",
        "        print(f\"Yanlış harf kalan can : {can_sayisi}\")\n",
        "\n",
        "    print(\" \".join(diz_kelime))\n",
        "\n",
        "    return can_sayisi, diz_kelime\n",
        "\n",
        "def oyun_sonu(can_sayisi, sec_kelime, diz_kelime):\n",
        "    if \"-\" not in diz_kelime:\n",
        "        print(\"Tebrikler, kelimeyi doğru bildiniz!\")\n",
        "\n",
        "    else:\n",
        "        print(f\"Kaybettiniz! Doğru kelime '{sec_kelime}' idi.\")\n",
        "\n",
        "    tekrar = input(\"Yeniden oynamak ister misiniz? (evet/hayır):\").lower()\n",
        "    if tekrar == \"evet\" :\n",
        "      adam_asmaca()\n",
        "    else:\n",
        "        print(\"Oyundan çıkılıyor...\")\n",
        "\n",
        "def adam_asmaca():\n",
        "    while  True:\n",
        "        can_sayisi, sec_kelime = zorluk_seviyesi_sec()\n",
        "        diz_kelime = kelime_diz(sec_kelime)\n",
        "\n",
        "\n",
        "\n",
        "\n",
        "        while can_sayisi > 0:\n",
        "           can_sayisi, diz_kelime = harf_tahmin_et(can_sayisi, sec_kelime, diz_kelime)\n",
        "\n",
        "        oyun_sonu(can_sayisi, sec_kelime, diz_kelime)\n",
        "\n",
        "        tekrar = input(\"Yeniden oynamak ister misiniz? (evet/hayır): \").lower()\n",
        "        if tekrar != \"evet\":\n",
        "          print(\"Oyundan çıkılıyor...\")\n",
        "          break\n",
        "        adam_asmaca()\n",
        "\n"
      ]
    },
    {
      "cell_type": "code",
      "source": [],
      "metadata": {
        "id": "gHtJ8_8rMhUV"
      },
      "execution_count": null,
      "outputs": []
    }
  ]
}