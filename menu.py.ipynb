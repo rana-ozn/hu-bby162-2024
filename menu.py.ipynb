{
  "nbformat": 4,
  "nbformat_minor": 0,
  "metadata": {
    "colab": {
      "provenance": [],
      "authorship_tag": "ABX9TyM5cvrQEfUc/puLwcH6FPGN",
      "include_colab_link": true
    },
    "kernelspec": {
      "name": "python3",
      "display_name": "Python 3"
    },
    "language_info": {
      "name": "python"
    }
  },
  "cells": [
    {
      "cell_type": "markdown",
      "metadata": {
        "id": "view-in-github",
        "colab_type": "text"
      },
      "source": [
        "<a href=\"https://colab.research.google.com/github/rana-ozn/hu-bby162-2024/blob/main/menu.py.ipynb\" target=\"_parent\"><img src=\"https://colab.research.google.com/assets/colab-badge.svg\" alt=\"Open In Colab\"/></a>"
      ]
    },
    {
      "cell_type": "code",
      "source": [],
      "metadata": {
        "id": "hMkxIHgPqrSs"
      },
      "execution_count": null,
      "outputs": []
    },
    {
      "cell_type": "code",
      "metadata": {
        "id": "cffb01c8"
      },
      "source": [
        "class Menu:\n",
        "    def __init__(self, title=\"Ana Menü\"):\n",
        "        self.title = title\n",
        "        self.options = []  # (menü adı, fonksiyon) çiftlerini tutar\n",
        "\n",
        "    def add_option(self, name, function):\n",
        "        \"\"\"Menüye yeni bir seçenek ekler.\"\"\"\n",
        "        self.options.append((name, function))\n",
        "\n",
        "    def show(self):\n",
        "        \"\"\"Menüyü gösterir ve kullanıcı seçimini yönetir.\"\"\"\n",
        "        while True:\n",
        "            print(f\"\\n--- {self.title} ---\")\n",
        "            for i, (name, _) in enumerate(self.options, start=1):\n",
        "                print(f\"{i}. {name}\")\n",
        "            print(f\"{len(self.options)+1}. Çıkış\")\n",
        "\n",
        "            secim = input(\"Seçiminiz: \")\n",
        "\n",
        "            if not secim.isdigit():\n",
        "                print(\"Lütfen geçerli bir sayı girin.\")\n",
        "                continue\n",
        "\n",
        "            secim = int(secim)\n",
        "            if secim == len(self.options) + 1:\n",
        "                print(\"Programdan çıkılıyor...\")\n",
        "                break\n",
        "            elif 1 <= secim <= len(self.options):\n",
        "                func = self.options[secim - 1][1]\n",
        "                func()\n",
        "            else:\n",
        "                print(\"Geçersiz seçim!\")"
      ],
      "execution_count": 8,
      "outputs": []
    }
  ]
}