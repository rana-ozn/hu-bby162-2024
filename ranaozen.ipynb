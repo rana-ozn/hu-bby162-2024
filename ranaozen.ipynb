{
  "nbformat": 4,
  "nbformat_minor": 0,
  "metadata": {
    "colab": {
      "provenance": [],
      "include_colab_link": true
    },
    "kernelspec": {
      "name": "python3",
      "display_name": "Python 3"
    },
    "language_info": {
      "name": "python"
    }
  },
  "cells": [
    {
      "cell_type": "markdown",
      "metadata": {
        "id": "view-in-github",
        "colab_type": "text"
      },
      "source": [
        "<a href=\"https://colab.research.google.com/github/rana-ozn/hu-bby162-2024/blob/main/ranaozen.ipynb\" target=\"_parent\"><img src=\"https://colab.research.google.com/assets/colab-badge.svg\" alt=\"Open In Colab\"/></a>"
      ]
    },
    {
      "cell_type": "markdown",
      "source": [
        "**Final Sınavına hoşgeldiniz!**"
      ],
      "metadata": {
        "id": "ItmuxWgBbkC1"
      }
    },
    {
      "cell_type": "markdown",
      "source": [
        "Canlı final sınavı, bilgisayar laboratuvarında bilgisayar başında yapılan ve teslim edilen sınavı ifade etmektedir. Canlı final sınavında yazmış olduğunuz kodlar sizin sorumluluğunuzdadır ve gerekirse hangi kodu neden yazdığınızı açık bir şekilde anlatabilmeniz gerekmektedir. Canlı final sınavı sırasında İnternet üzerindeki kaynaklar kullanılabilir ancak başka bir kişiden destek alınamaz.\n",
        "\n",
        "Canlı final sınavının teslim şekli önceki sınav ve projelerin teslim şekli ile aynıdır. \"Final Sınavı\" adlı Colab not defterinin bir kopyasını çıkarmalı, size ait olan bu kopya üzerinde soruları cevaplamalı, GitHub'daki ders deponuza size ait kopyayı yüklemeli ve not defterinin adresini metin alanına yazarak göndermelisiniz.\n",
        "\n",
        "Canlı final sınavının doğru şekilde tamamlanması da sınavın önemli bir parçasıdır. Sınav için gönderdiğiniz adresi kontrol ediniz ve doğru dosyayı depoya yerleştirdiği bizden emin olunuz. Teslim sürecinde yapılan hatalar sınavdan 0 puan almanıza yol açabilir!\n",
        "\n",
        "**Sınav süresi 60 dakikadır!**\n",
        "\n",
        "Önemli Not: Soruları cecaplarken sadece şu ana kadar öğrendiğiniz kod yapılarını kullanmanız gerekmektedir!!!"
      ],
      "metadata": {
        "id": "KGjdjR5RbTgH"
      }
    },
    {
      "cell_type": "markdown",
      "source": [
        "**----- Sorular -----**"
      ],
      "metadata": {
        "id": "zBvdh4s8cOqM"
      }
    },
    {
      "cell_type": "markdown",
      "source": [
        "**Soru 1:** Kod bölümünde yer alan listeyi ekrana aşağıda gösterildiği şekilde \"for\" döngüsü kullanarak yazdırın. Her kelimenin başındaki numara otomatik olarak verilmelidir. (5 Puan)\n",
        "\n",
        "1.   Açık Erişim\n",
        "2.   Açık Bilim\n",
        "3.   Açık Veri\n",
        "4.   Açık Eğitim\n",
        "5.   Açık Kültür"
      ],
      "metadata": {
        "id": "ma0FVqgQiLBe"
      }
    },
    {
      "cell_type": "code",
      "source": [
        "#Soru 1 bu bölümde kodlanmalıdır\n",
        "liste = [\"Açık Erişim\", \"Açık Bilim\", \"Açık Veri\", \"Açık Eğitim\", \"Açık Kültür\"]\n",
        "for i,kelime in enumerate(liste,start=1):\n",
        "  print(f\"{i}.{kelime}\")\n",
        "\n",
        "\n"
      ],
      "metadata": {
        "id": "Fj7wkLMcjp_7",
        "colab": {
          "base_uri": "https://localhost:8080/"
        },
        "outputId": "7fce7fcf-048b-43e4-b202-597a778f5566"
      },
      "execution_count": 5,
      "outputs": [
        {
          "output_type": "stream",
          "name": "stdout",
          "text": [
            "1.Açık Erişim\n",
            "2.Açık Bilim\n",
            "3.Açık Veri\n",
            "4.Açık Eğitim\n",
            "5.Açık Kültür\n"
          ]
        }
      ]
    },
    {
      "cell_type": "markdown",
      "source": [
        "**Soru 2:** Kod bölümünde yer alan boş sözlüğe klavyeden yeni veri ekleyecek kodu yazınız. Yeni veri hem anahtarı (key) hem de anahtara karşılık gelecek değerli (value) içermelidir. Veri girişi yapıldıktan sonra sözlüğün güncel hali de ekrana yazıdırılmalıdır. (5 Puan)"
      ],
      "metadata": {
        "id": "uZDiXJARgK4o"
      }
    },
    {
      "cell_type": "code",
      "source": [
        "#Soru 2 bu bölümde kodlanmalıdır\n",
        "sozluk = {}\n",
        "anahtar = input(\"anahtar giriniz: \")\n",
        "deger = input(\"deger giriniz:\")\n",
        "sozluk[anahtar] = deger\n",
        "print(\"güncellenmiş sözlük\", sozluk)\n",
        "\n"
      ],
      "metadata": {
        "id": "no7Zd1ZCh5U3",
        "colab": {
          "base_uri": "https://localhost:8080/"
        },
        "outputId": "a5a65386-ebfa-4d18-aaec-69ff735fe87d"
      },
      "execution_count": 1,
      "outputs": [
        {
          "output_type": "stream",
          "name": "stdout",
          "text": [
            "anahtar giriniz: boş\n",
            "deger giriniz:3\n",
            "güncellenmiş sözlük {'boş': '3'}\n"
          ]
        }
      ]
    },
    {
      "cell_type": "markdown",
      "source": [
        "**Soru 3:** Herhangi bir metin dosyasında (ör: [veri.txt](https://drive.google.com/file/d/1WVCEET3G3ishvIR-V6lCav7jBgaZLT-o/view?usp=sharing)) satır satır yer alan verileri okuyup ekrana satır satır yazdıracak kodu yazınız. (10 Puan)"
      ],
      "metadata": {
        "id": "HnIqbjcCeNEV"
      }
    },
    {
      "cell_type": "code",
      "source": [
        "#Soru 3 bu bölümde kodlanmalıdır\n",
        "dosya_adi = \"veri.txt\"\n",
        "with open(dosya_adi, \"r\",encoding=\"utf-8\") as dosya :\n",
        "  for satir in dosya:\n",
        "    print(satir, end=\"\")\n"
      ],
      "metadata": {
        "id": "SjzG5g3ffTyv",
        "colab": {
          "base_uri": "https://localhost:8080/",
          "height": 106
        },
        "outputId": "ca0f057e-9f7f-49e4-c9c3-a7c30f72e758"
      },
      "execution_count": 7,
      "outputs": [
        {
          "output_type": "error",
          "ename": "SyntaxError",
          "evalue": "invalid syntax (<ipython-input-7-0accb68c556b>, line 6)",
          "traceback": [
            "\u001b[0;36m  File \u001b[0;32m\"<ipython-input-7-0accb68c556b>\"\u001b[0;36m, line \u001b[0;32m6\u001b[0m\n\u001b[0;31m    except FileNotFoundError:\u001b[0m\n\u001b[0m    ^\u001b[0m\n\u001b[0;31mSyntaxError\u001b[0m\u001b[0;31m:\u001b[0m invalid syntax\n"
          ]
        }
      ]
    },
    {
      "cell_type": "markdown",
      "source": [
        "**Soru 4:** Verilerin bir TXT dosyasında depolanabileceği basit bir adres defteri oluşturunuz. Adres defterindeki öğeler Ad-Soyad ve e-Posta olacaktır. Bu adres desteri uygulamasında bir menü yapısı (uygulama içinde fonksiyolar) olmalıdır. 1. seçenek adres defterindeki girişleri göstermeli, 2. seçenek adres defterine yeni veri eklemeli, 3. seçenek ise uygulamayı sonlandırmalıdır. (20 Puan)"
      ],
      "metadata": {
        "id": "p49cZFjJcXoS"
      }
    },
    {
      "cell_type": "code",
      "execution_count": 2,
      "metadata": {
        "id": "3whYCDz3a8QZ"
      },
      "outputs": [],
      "source": [
        "#Soru 4 bu bölümde kodlanmalıdır\n",
        "def adres_defteri():\n",
        "  def goster():\n",
        "    try:\n",
        "      with open(\"adres_defteri.txt\",\"r\",encoding=\"utf-8\") as dosya:\n",
        "        print(\"adres defteri:\")\n",
        "        for satir in dosya:\n",
        "          print(satir.strip())\n",
        "    except FileNotFoundError:\n",
        "      print(\"adres defteri boş. \")\n",
        "\n"
      ]
    },
    {
      "cell_type": "code",
      "source": [
        "def ekle():\n",
        "  ad_soyad = input(\"ad-soyad:\")\n",
        "  eposta = input(\"eposta\")\n",
        "  with open(\"adres_defteri.txt\", \"a\", encoding=\"utf-8\")as dosya:\n",
        "    dosya.write(f\"{ad_soyad},{eposta}\\n\")\n",
        "  print(\"yeni veri eklendi\")"
      ],
      "metadata": {
        "id": "B_cxysvwJooA"
      },
      "execution_count": 3,
      "outputs": []
    },
    {
      "cell_type": "code",
      "source": [
        "while True:\n",
        "  print(\"1.göster\")\n",
        "  print(\"2.ekle\")\n",
        "  print(\"3.çıkış\")\n",
        "  secim = input(\"seçiminiz:\")\n",
        "  if secim == \"1\":\n",
        "    goster()\n",
        "  elif secim == \"2\":\n",
        "    ekle()\n",
        "  elif secim == \"3\":\n",
        "    print(\"çıkış yapıldı\")\n",
        "    break\n",
        "  else:\n",
        "    print(\"geçersiz seçim , tekrar deneyin.\")\n"
      ],
      "metadata": {
        "colab": {
          "base_uri": "https://localhost:8080/"
        },
        "id": "bUkHVi1rLMen",
        "outputId": "795887b8-1364-421d-fb06-e794d9d5233f"
      },
      "execution_count": null,
      "outputs": [
        {
          "output_type": "stream",
          "name": "stdout",
          "text": [
            "1.göster\n",
            "2.ekle\n",
            "3.çıkış\n"
          ]
        }
      ]
    }
  ]
}