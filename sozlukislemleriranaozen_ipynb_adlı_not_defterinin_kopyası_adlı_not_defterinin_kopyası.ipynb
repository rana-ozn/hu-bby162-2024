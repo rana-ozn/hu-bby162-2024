{
  "nbformat": 4,
  "nbformat_minor": 0,
  "metadata": {
    "colab": {
      "provenance": [],
      "authorship_tag": "ABX9TyOn3Yos6awrRR7qKsqU5wR+",
      "include_colab_link": true
    },
    "kernelspec": {
      "name": "python3",
      "display_name": "Python 3"
    },
    "language_info": {
      "name": "python"
    }
  },
  "cells": [
    {
      "cell_type": "markdown",
      "metadata": {
        "id": "view-in-github",
        "colab_type": "text"
      },
      "source": [
        "<a href=\"https://colab.research.google.com/github/rana-ozn/hu-bby162-2024/blob/main/sozlukislemleriranaozen_ipynb_adl%C4%B1_not_defterinin_kopyas%C4%B1_adl%C4%B1_not_defterinin_kopyas%C4%B1.ipynb\" target=\"_parent\"><img src=\"https://colab.research.google.com/assets/colab-badge.svg\" alt=\"Open In Colab\"/></a>"
      ]
    },
    {
      "cell_type": "code",
      "execution_count": 43,
      "metadata": {
        "id": "xpIQkH7zoSCp"
      },
      "outputs": [],
      "source": [
        "from collections.abc import ItemsView\n",
        "#Meyveler sözlüğü\n",
        "meyveler = {\n",
        "    \"elma\" : \" Rosacae familyasından Malus cinsine ait meyve türelerinin ortak adıdır.\",\n",
        "    \"armut\": \"Armut, gülgüller (Rosaceae) familyasından olan, kışın yapraklarını döken, sert çekirdekli meyve.\",\n",
        "    \"muz\" : \"Muz, muzgiller(Musaceae) familyasından olan, kırmızı renkte, çoktatlı bir meyve.\",\n",
        "    \"çilek\" : \"Çilek, gülgiller (Rosaceae) familyasından olan, turuncu renkte, ekşi ve tatlı bir meyve.\",\n",
        "    \"portakal\" : \"Portakal, turunçgiller familyasından olan, turuncu renkte ekşi ve tatlı bir meyve.\",\n",
        "    \"üzüm\" : \"Üzüm, asmavegiller familyasından olan küçük, yuvarlak veya oval biçimde, tatlı yada ekşi yenilen bir meyve türüdür.\",\n",
        "    \"karpuz\" : \"Karpuz, kavakgiller familyasından olan, büyük, yeşil-koyu yeşil renkte, içi kırmızı , suyu bol, tatlı bir yaz meyvesidir.\",\n",
        "    \"kiraz\" : \"Kiraz, gülgiller (Rosaceae) familyasından, meyve olarak tüketilen çeşitli türlerin ortak adıdır.\",\n",
        "    \"erik\" : \"Erik, gülgiller (Rosaceae) familyasından, meyve olarak tüketilen Prunus cinsinden ağaçlara ait bir türdür.\",\n",
        "    \"kavun\" : \"Kavun, kabakgiller (Cucurbitaceae) familyasından olan, içi etli, çekirdekli ve hoş kokulu bir meyvedir.\"\n",
        "}\n",
        ""
      ]
    },
    {
      "cell_type": "code",
      "source": [
        "#Meyveler sözlüğünü yazdırma\n",
        "print(\"meyveler sözlüğü\")\n"
      ],
      "metadata": {
        "colab": {
          "base_uri": "https://localhost:8080/"
        },
        "id": "zJ1V_ETl5hpW",
        "outputId": "1c27ab1b-8147-4d02-a639-90f300d22ea6"
      },
      "execution_count": 44,
      "outputs": [
        {
          "output_type": "stream",
          "name": "stdout",
          "text": [
            "meyveler sözlüğü\n"
          ]
        }
      ]
    },
    {
      "cell_type": "code",
      "source": [
        "#Meyveler sözlüğüne yeni bir öğe eklenmesi\n",
        "meyve = input(\"İstenilen meyve adını girniz: \")\n",
        "meyveler[meyve] = \"yeni_meyve_bilgisi\""
      ],
      "metadata": {
        "colab": {
          "base_uri": "https://localhost:8080/"
        },
        "id": "bGgwWKj2FoZY",
        "outputId": "c823cd3e-396c-4ec2-8cf4-f6a73d1968be"
      },
      "execution_count": 45,
      "outputs": [
        {
          "name": "stdout",
          "output_type": "stream",
          "text": [
            "İstenilen meyve adını girniz: kivi\n"
          ]
        }
      ]
    },
    {
      "cell_type": "code",
      "source": [
        "#Sözlükteki yeni bir öğenin silinmesi\n",
        "print(meyveler)\n",
        "silinecek = input(\"Silmek istediğiniz meyveyi giriniz: \")\n",
        "meyveler.pop(silinecek, )\n",
        "print(\"Silme işlemi tamamlandı.\")\n",
        "print(meyveler)"
      ],
      "metadata": {
        "colab": {
          "base_uri": "https://localhost:8080/"
        },
        "id": "Y9gwksy1HTYB",
        "outputId": "75e1d2fb-9052-4fb7-cb8c-057e1249f370"
      },
      "execution_count": 34,
      "outputs": [
        {
          "output_type": "stream",
          "name": "stdout",
          "text": [
            "{'armut': 'Armut, gülgüller (Rosaceae) familyasından olan, kışın yapraklarını döken, sert çekirdekli meyve.', 'muz': 'Muz, muzgiller(Musaceae) familyasından olan, kırmızı renkte, çoktatlı bir meyve.', 'çilek': 'yeni_meyve_bilgisi', 'portakal': 'Portakal, turunçgiller familyasından olan, turuncu renkte ekşi ve tatlı bir meyve.', 'üzüm': 'Üzüm, asmavegiller familyasından olan küçük, yuvarlak veya oval biçimde, tatlı yada ekşi yenilen bir meyve türüdür.', 'karpuz': 'Karpuz, kavakgiller familyasından olan, büyük, yeşil-koyu yeşil renkte, içi kırmızı , suyu bol, tatlı bir yaz meyvesidir.', 'kiraz': 'Kiraz, gülgiller (Rosaceae) familyasından, meyve olarak tüketilen çeşitli türlerin ortak adıdır.', 'erik': 'Erik, gülgiller (Rosaceae) familyasından, meyve olarak tüketilen Prunus cinsinden ağaçlara ait bir türdür.', 'kavun': 'Kavun, kabakgiller (Cucurbitaceae) familyasından olan, içi etli, çekirdekli ve hoş kokulu bir meyvedir.'}\n",
            "Silmek istediğiniz meyveyi giriniz: erik\n",
            "Silme işlemi tamamlandı.\n",
            "{'armut': 'Armut, gülgüller (Rosaceae) familyasından olan, kışın yapraklarını döken, sert çekirdekli meyve.', 'muz': 'Muz, muzgiller(Musaceae) familyasından olan, kırmızı renkte, çoktatlı bir meyve.', 'çilek': 'yeni_meyve_bilgisi', 'portakal': 'Portakal, turunçgiller familyasından olan, turuncu renkte ekşi ve tatlı bir meyve.', 'üzüm': 'Üzüm, asmavegiller familyasından olan küçük, yuvarlak veya oval biçimde, tatlı yada ekşi yenilen bir meyve türüdür.', 'karpuz': 'Karpuz, kavakgiller familyasından olan, büyük, yeşil-koyu yeşil renkte, içi kırmızı , suyu bol, tatlı bir yaz meyvesidir.', 'kiraz': 'Kiraz, gülgiller (Rosaceae) familyasından, meyve olarak tüketilen çeşitli türlerin ortak adıdır.', 'kavun': 'Kavun, kabakgiller (Cucurbitaceae) familyasından olan, içi etli, çekirdekli ve hoş kokulu bir meyvedir.'}\n"
          ]
        }
      ]
    },
    {
      "cell_type": "code",
      "source": [
        "#Sözlükteki bir öğenin güncellenmesi\n",
        "print(meyveler)\n",
        "meyve_adi = input(\"Güncellemek istediğiniz meyvenin tanımını giriniz: \")\n",
        "guncelIcerik = input(\"Güncel meyve bilgisini giriniz: \")\n",
        "meyveler[meyve_adi] = guncelIcerik\n",
        "print(\"Güncelleme tamamlandı\")\n",
        "print(meyveler)\n",
        "\n"
      ],
      "metadata": {
        "colab": {
          "base_uri": "https://localhost:8080/"
        },
        "id": "Tv0yYuhfNep-",
        "outputId": "af3ccd69-6906-4167-87d2-d863f2051568"
      },
      "execution_count": 42,
      "outputs": [
        {
          "output_type": "stream",
          "name": "stdout",
          "text": [
            "{'armut': 'Armut, gülgüller (Rosaceae) familyasından olan, kışın yapraklarını döken, sert çekirdekli meyve.', 'muz': 'Muz, muzgiller(Musaceae) familyasından olan, kırmızı renkte, çoktatlı bir meyve.', 'çilek': 'yeni_meyve_bilgisi', 'portakal': 'Portakal, turunçgiller familyasından olan, turuncu renkte ekşi ve tatlı bir meyve.', 'üzüm': 'Üzüm, asmavegiller familyasından olan küçük, yuvarlak veya oval biçimde, tatlı yada ekşi yenilen bir meyve türüdür.', 'karpuz': 'Karpuz, kavakgiller familyasından olan, büyük, yeşil-koyu yeşil renkte, içi kırmızı , suyu bol, tatlı bir yaz meyvesidir.', 'kiraz': 'Kiraz, gülgiller (Rosaceae) familyasından, meyve olarak tüketilen çeşitli türlerin ortak adıdır.', 'kavun': 'Kavun, kabakgiller (Cucurbitaceae) familyasından olan, içi etli, çekirdekli ve hoş kokulu bir meyvedir.'}\n",
            "Güncellemek istediğiniz meyvenin tanımını giriniz: çilek\n",
            "Güncel meyve bilgisini giriniz: erik\n",
            "Güncelleme tamamlandı\n",
            "{'armut': 'Armut, gülgüller (Rosaceae) familyasından olan, kışın yapraklarını döken, sert çekirdekli meyve.', 'muz': 'Muz, muzgiller(Musaceae) familyasından olan, kırmızı renkte, çoktatlı bir meyve.', 'çilek': 'erik', 'portakal': 'Portakal, turunçgiller familyasından olan, turuncu renkte ekşi ve tatlı bir meyve.', 'üzüm': 'Üzüm, asmavegiller familyasından olan küçük, yuvarlak veya oval biçimde, tatlı yada ekşi yenilen bir meyve türüdür.', 'karpuz': 'Karpuz, kavakgiller familyasından olan, büyük, yeşil-koyu yeşil renkte, içi kırmızı , suyu bol, tatlı bir yaz meyvesidir.', 'kiraz': 'Kiraz, gülgiller (Rosaceae) familyasından, meyve olarak tüketilen çeşitli türlerin ortak adıdır.', 'kavun': 'Kavun, kabakgiller (Cucurbitaceae) familyasından olan, içi etli, çekirdekli ve hoş kokulu bir meyvedir.'}\n"
          ]
        }
      ]
    }
  ]
}