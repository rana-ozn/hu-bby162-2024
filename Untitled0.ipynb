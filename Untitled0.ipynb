{
  "nbformat": 4,
  "nbformat_minor": 0,
  "metadata": {
    "colab": {
      "provenance": [],
      "authorship_tag": "ABX9TyP78RL8KteSDRTXnYlcVb3p",
      "include_colab_link": true
    },
    "kernelspec": {
      "name": "python3",
      "display_name": "Python 3"
    },
    "language_info": {
      "name": "python"
    }
  },
  "cells": [
    {
      "cell_type": "markdown",
      "metadata": {
        "id": "view-in-github",
        "colab_type": "text"
      },
      "source": [
        "<a href=\"https://colab.research.google.com/github/rana-ozn/hu-bby162-2024/blob/main/Untitled0.ipynb\" target=\"_parent\"><img src=\"https://colab.research.google.com/assets/colab-badge.svg\" alt=\"Open In Colab\"/></a>"
      ]
    },
    {
      "cell_type": "code",
      "execution_count": 21,
      "metadata": {
        "colab": {
          "base_uri": "https://localhost:8080/"
        },
        "id": "xI2KhoUkZhzb",
        "outputId": "06057d49-42a4-4441-991c-60feed32c933"
      },
      "outputs": [
        {
          "output_type": "stream",
          "name": "stdout",
          "text": [
            "kelime giriniz:look\n",
            "l\n",
            "o\n",
            "o\n",
            "k\n"
          ]
        }
      ],
      "source": [
        "\n",
        "yasakli_kelime= (\"look\", \"but\", \"no\",\"good\")\n",
        "kelime=input(\"kelime giriniz:\")\n",
        "\n",
        "for kelimeler in kelime:\n",
        "  if kelimeler in yasakli_kelime:\n",
        "       continue\n",
        "\n",
        "  print(kelimeler)"
      ]
    }
  ]
}