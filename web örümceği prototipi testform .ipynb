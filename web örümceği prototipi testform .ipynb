{
  "nbformat": 4,
  "nbformat_minor": 0,
  "metadata": {
    "colab": {
      "provenance": [],
      "authorship_tag": "ABX9TyMDttGmIxTczf5/vkP87DFi",
      "include_colab_link": true
    },
    "kernelspec": {
      "name": "python3",
      "display_name": "Python 3"
    },
    "language_info": {
      "name": "python"
    }
  },
  "cells": [
    {
      "cell_type": "markdown",
      "metadata": {
        "id": "view-in-github",
        "colab_type": "text"
      },
      "source": [
        "<a href=\"https://colab.research.google.com/github/rana-ozn/hu-bby162-2024/blob/main/web%20%C3%B6r%C3%BCmce%C4%9Fi%20prototipi%20testform%20.ipynb\" target=\"_parent\"><img src=\"https://colab.research.google.com/assets/colab-badge.svg\" alt=\"Open In Colab\"/></a>"
      ]
    },
    {
      "cell_type": "code",
      "source": [
        "class DataURL:\n",
        "    def dataRead(self):\n",
        "        print(\"URL listesi okundu.\")\n",
        "\n",
        "    def dataWrite(self):\n",
        "        print(\"URL eklendi.\")\n"
      ],
      "metadata": {
        "id": "F1Xjnn6dfpBw"
      },
      "execution_count": 14,
      "outputs": []
    },
    {
      "cell_type": "code",
      "execution_count": null,
      "metadata": {
        "id": "k1ypVGRDIJD1",
        "colab": {
          "base_uri": "https://localhost:8080/"
        },
        "outputId": "73de586a-5349-447d-d4a7-798c693cd711"
      },
      "outputs": [
        {
          "output_type": "stream",
          "name": "stdout",
          "text": [
            "-:MİNİ ÖRÜMCEĞE HOŞ GELDİNİZ!:-\n",
            "|............................|\n",
            "\n",
            "Menü: (0) Çıkış (1) URL Listele (2) URL Ekle (3) Örümcek Gönder\n"
          ]
        }
      ],
      "source": [
        "import time\n",
        "import requests\n",
        "from bs4 import BeautifulSoup\n",
        "\n",
        "\n",
        "class GetURL:\n",
        "    def getWeb(self):\n",
        "      url = \"https://hacettepe.edu.tr\"\n",
        "      try:\n",
        "        response = requests.get(url)\n",
        "        response.raise_for_status() #HTTP hatalarını kontrol et\n",
        "        soup = BeautifulSoup(response.text,'html.parser')\n",
        "\n",
        "        #Örnek : Ana başlığı al\n",
        "        main_title = soup.find('title').text\n",
        "        print(f\"Ana Başlık:{main_title}\")\n",
        "\n",
        "        #Duyuruları al (örnek bir bölüm, gerçek yapı kontrol edilmeli)\n",
        "        announcements = soup.find_all('div', class_='duyuru') #Bu sınıf örnek, gerçek sınıfı kontrol et\n",
        "        print(\"Duyurular:\")\n",
        "        for announcement in announcements[:5]: # İlk 5 duyuru al\n",
        "            print(announcement.text.strip())\n",
        "\n",
        "      except Exception as e:\n",
        "          print(f\"Hata oluştu: {e}\")\n",
        "\n",
        "useDataURL = DataURL()\n",
        "useGetURL = GetURL()\n",
        "\n",
        "print(\"-:MİNİ ÖRÜMCEĞE HOŞ GELDİNİZ!:-\")\n",
        "print(\"|............................|\")\n",
        "print(\"\")\n",
        "time.sleep(2)\n",
        "\n",
        "while True:\n",
        "    print(\"Menü: (0) Çıkış (1) URL Listele (2) URL Ekle (3) Örümcek Gönder\")\n",
        "    try:\n",
        "        menuSecim = int(input(\"tercihiniz:\"))\n",
        "\n",
        "        if menuSecim ==0:\n",
        "            print(\"Mini Örümcek kapatılıyor...\")\n",
        "            break\n",
        "        elif menuSecim == 1:\n",
        "            useDataURL.dataRead()\n",
        "        elif menuSecim == 2:\n",
        "            useDataURL.dataWrite()\n",
        "        elif menuSecim == 3:\n",
        "            useGetURL.getWeb()\n",
        "        else:\n",
        "          print(\"Geçersiz seçim lütfen tekrar deneyiniz.\")\n",
        "    except ValueError:\n",
        "      print(\"Lütfen bir sayı girin.\")\n",
        "\n"
      ]
    }
  ]
}